{
 "cells": [
  {
   "cell_type": "code",
   "execution_count": 3,
   "id": "9ae662ae",
   "metadata": {},
   "outputs": [
    {
     "ename": "SyntaxError",
     "evalue": "invalid syntax (Temp/ipykernel_13332/2190354684.py, line 2)",
     "output_type": "error",
     "traceback": [
      "\u001b[1;36m  File \u001b[1;32m\"C:\\Users\\archa\\AppData\\Local\\Temp/ipykernel_13332/2190354684.py\"\u001b[1;36m, line \u001b[1;32m2\u001b[0m\n\u001b[1;33m    web: voila --port=$PORT --no-browser --enable_nbextensions=True FinalTreeMapUsingDash.ipynb\u001b[0m\n\u001b[1;37m                      ^\u001b[0m\n\u001b[1;31mSyntaxError\u001b[0m\u001b[1;31m:\u001b[0m invalid syntax\n"
     ]
    }
   ],
   "source": [
    "# web: gunicorn FinalTreeMapUsingDash:server\n",
    "web: voila --port=$PORT --no-browser --enable_nbextensions=True FinalTreeMapUsingDash.ipynb"
   ]
  },
  {
   "cell_type": "code",
   "execution_count": null,
   "id": "7a6c999d",
   "metadata": {},
   "outputs": [],
   "source": []
  }
 ],
 "metadata": {
  "kernelspec": {
   "display_name": "MyVenvKernel",
   "language": "python",
   "name": "myvenvkernel"
  },
  "language_info": {
   "codemirror_mode": {
    "name": "ipython",
    "version": 3
   },
   "file_extension": ".py",
   "mimetype": "text/x-python",
   "name": "python",
   "nbconvert_exporter": "python",
   "pygments_lexer": "ipython3",
   "version": "3.9.7"
  }
 },
 "nbformat": 4,
 "nbformat_minor": 5
}
